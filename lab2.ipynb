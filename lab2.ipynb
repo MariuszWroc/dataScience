{
 "cells": [
  {
   "cell_type": "code",
   "execution_count": 31,
   "metadata": {},
   "outputs": [],
   "source": [
    "#########################################################################################################################\n",
    "# Kurs: Data science, studia zaoczne, Informatyka w Biznesie\n",
    "# Data: 09.12.2018\n",
    "# Autorzy: Mariusz Czarny\n",
    "#########################################################################################################################"
   ]
  },
  {
   "cell_type": "code",
   "execution_count": 32,
   "metadata": {},
   "outputs": [],
   "source": [
    "# import wewenętrznej bazy danych\n",
    "import sqlite3"
   ]
  },
  {
   "cell_type": "code",
   "execution_count": 33,
   "metadata": {},
   "outputs": [],
   "source": [
    "# import standardowych bibliotek\n",
    "import pandas as pd\n",
    "import numpy as np\n",
    "import os"
   ]
  },
  {
   "cell_type": "code",
   "execution_count": 34,
   "metadata": {},
   "outputs": [],
   "source": [
    "# import bibliotek służących do wizualizacji\n",
    "import matplotlib.pyplot as plt\n",
    "import seaborn as sns\n",
    "sns.set_style('whitegrid')\n",
    "%matplotlib inline"
   ]
  },
  {
   "cell_type": "code",
   "execution_count": 35,
   "metadata": {},
   "outputs": [
    {
     "data": {
      "text/plain": [
       "'C:\\\\Users\\\\Mariusz\\\\studia\\\\3 semestr\\\\Data science\\\\my project'"
      ]
     },
     "execution_count": 35,
     "metadata": {},
     "output_type": "execute_result"
    }
   ],
   "source": [
    "# sprawdza aktualną ścieżkę\n",
    "%pwd"
   ]
  },
  {
   "cell_type": "code",
   "execution_count": 36,
   "metadata": {},
   "outputs": [],
   "source": [
    "# połączenie z bazą i wykorzystanie kursora\n",
    "dbConnection = sqlite3.connect(\"bookdb\");\n",
    "dbCursor = dbConnection.cursor()"
   ]
  },
  {
   "cell_type": "code",
   "execution_count": 37,
   "metadata": {},
   "outputs": [],
   "source": [
    "# rozszerzenie plików zawierających dane do wczytania\n",
    "txtExtention = \".txt\""
   ]
  },
  {
   "cell_type": "code",
   "execution_count": 38,
   "metadata": {},
   "outputs": [],
   "source": [
    "# tablica z nazwami plików do oczytu, zawierające dane, które będą importowane do tabel bazodanowych\n",
    "tables = [\"Subscribers\"]"
   ]
  },
  {
   "cell_type": "code",
   "execution_count": 39,
   "metadata": {},
   "outputs": [],
   "source": [
    "# wczytywanie kolejnych plików w pętli for\n",
    "for table in tables:\n",
    "    # ustawienie scieżki (nazwy plików pisane małymy literami)\n",
    "    path = os.path.expanduser(table.lower() + txtExtention)\n",
    "    # wczytywanie pliku używając delimitera tabulacji oraz kodowania 'latin1'\n",
    "    file = pd.read_csv(path, delimiter=\"\\t\", encoding = 'latin1')\n",
    "    # tworzy na podstawie pliku tabele i wypełnia ją rekordami, jesli istnieje zostaje nadpisana\n",
    "    file.to_sql(table, dbConnection, if_exists=\"replace\");"
   ]
  },
  {
   "cell_type": "code",
   "execution_count": 46,
   "metadata": {},
   "outputs": [],
   "source": [
    "dateDiffQuery = '''SELECT start_date, COUNT(*) as numstarts, SUM(CASE WHEN stop_type IS NULL THEN 1 ELSE 0 END ) as numactives, AVG(CASE WHEN stop_type IS NULL THEN 1.0 ELSE 0 END ) retention FROM subscribers WHERE start_date >= '2004-01-01' AND tenure >= 0 GROUP BY start_date ORDER BY 1'''\n",
    "dateDF = pd.read_sql_query(dateDiffQuery, dbConnection)"
   ]
  },
  {
   "cell_type": "code",
   "execution_count": 47,
   "metadata": {},
   "outputs": [
    {
     "data": {
      "text/html": [
       "<div>\n",
       "<style scoped>\n",
       "    .dataframe tbody tr th:only-of-type {\n",
       "        vertical-align: middle;\n",
       "    }\n",
       "\n",
       "    .dataframe tbody tr th {\n",
       "        vertical-align: top;\n",
       "    }\n",
       "\n",
       "    .dataframe thead th {\n",
       "        text-align: right;\n",
       "    }\n",
       "</style>\n",
       "<table border=\"1\" class=\"dataframe\">\n",
       "  <thead>\n",
       "    <tr style=\"text-align: right;\">\n",
       "      <th></th>\n",
       "      <th>start_date</th>\n",
       "      <th>numstarts</th>\n",
       "      <th>numactives</th>\n",
       "      <th>retention</th>\n",
       "    </tr>\n",
       "  </thead>\n",
       "  <tbody>\n",
       "    <tr>\n",
       "      <th>0</th>\n",
       "      <td>2004-01-01</td>\n",
       "      <td>349</td>\n",
       "      <td>77</td>\n",
       "      <td>0.220630</td>\n",
       "    </tr>\n",
       "    <tr>\n",
       "      <th>1</th>\n",
       "      <td>2004-01-02</td>\n",
       "      <td>3062</td>\n",
       "      <td>861</td>\n",
       "      <td>0.281189</td>\n",
       "    </tr>\n",
       "    <tr>\n",
       "      <th>2</th>\n",
       "      <td>2004-01-03</td>\n",
       "      <td>2865</td>\n",
       "      <td>812</td>\n",
       "      <td>0.283421</td>\n",
       "    </tr>\n",
       "    <tr>\n",
       "      <th>3</th>\n",
       "      <td>2004-01-04</td>\n",
       "      <td>2653</td>\n",
       "      <td>736</td>\n",
       "      <td>0.277422</td>\n",
       "    </tr>\n",
       "    <tr>\n",
       "      <th>4</th>\n",
       "      <td>2004-01-05</td>\n",
       "      <td>2561</td>\n",
       "      <td>720</td>\n",
       "      <td>0.281140</td>\n",
       "    </tr>\n",
       "  </tbody>\n",
       "</table>\n",
       "</div>"
      ],
      "text/plain": [
       "   start_date  numstarts  numactives  retention\n",
       "0  2004-01-01        349          77   0.220630\n",
       "1  2004-01-02       3062         861   0.281189\n",
       "2  2004-01-03       2865         812   0.283421\n",
       "3  2004-01-04       2653         736   0.277422\n",
       "4  2004-01-05       2561         720   0.281140"
      ]
     },
     "execution_count": 47,
     "metadata": {},
     "output_type": "execute_result"
    }
   ],
   "source": [
    "dateDF.head()"
   ]
  },
  {
   "cell_type": "code",
   "execution_count": 48,
   "metadata": {},
   "outputs": [
    {
     "data": {
      "text/plain": [
       "<matplotlib.axes._subplots.AxesSubplot at 0x216d75ff0f0>"
      ]
     },
     "execution_count": 48,
     "metadata": {},
     "output_type": "execute_result"
    },
    {
     "data": {
      "image/png": "[encoded data removed]",
      "text/plain": [
       "<Figure size 720x288 with 1 Axes>"
      ]
     },
     "metadata": {
      "needs_background": "light"
     },
     "output_type": "display_data"
    }
   ],
   "source": [
    "# rysowanie wykresu\n",
    "dateDF.plot(x='start_date', y='retention', legend=True,figsize=(10,4))"
   ]
  }
 ],
 "metadata": {
  "kernelspec": {
   "display_name": "Python 3",
   "language": "python",
   "name": "python3"
  },
  "language_info": {
   "codemirror_mode": {
    "name": "ipython",
    "version": 3
   },
   "file_extension": ".py",
   "mimetype": "text/x-python",
   "name": "python",
   "nbconvert_exporter": "python",
   "pygments_lexer": "ipython3",
   "version": "3.7.0"
  }
 },
 "nbformat": 4,
 "nbformat_minor": 2
}
